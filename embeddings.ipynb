{
 "cells": [
  {
   "cell_type": "code",
   "execution_count": 26,
   "metadata": {},
   "outputs": [
    {
     "data": {
      "text/plain": [
       "True"
      ]
     },
     "execution_count": 26,
     "metadata": {},
     "output_type": "execute_result"
    }
   ],
   "source": [
    "from langchain_google_genai import GoogleGenerativeAIEmbeddings\n",
    "from langchain_google_genai import ChatGoogleGenerativeAI\n",
    "import os\n",
    "from langchain_community.tools import DuckDuckGoSearchRun\n",
    "from langchain_community.document_loaders import PyPDFDirectoryLoader\n",
    "from langchain.agents import initialize_agent\n",
    "from dotenv import load_dotenv\n",
    "load_dotenv()"
   ]
  },
  {
   "cell_type": "code",
   "execution_count": 27,
   "metadata": {},
   "outputs": [],
   "source": [
    "GOOGLE_API_KEY=os.getenv('GOOGLE_API_KEY')"
   ]
  },
  {
   "cell_type": "code",
   "execution_count": 28,
   "metadata": {},
   "outputs": [],
   "source": [
    "embeddings = GoogleGenerativeAIEmbeddings(model=\"models/embedding-001\",google_api_key=GOOGLE_API_KEY)"
   ]
  },
  {
   "cell_type": "code",
   "execution_count": 29,
   "metadata": {},
   "outputs": [],
   "source": [
    "\n",
    "import pypdf"
   ]
  },
  {
   "cell_type": "code",
   "execution_count": 30,
   "metadata": {},
   "outputs": [],
   "source": [
    "doc=PyPDFDirectoryLoader(path=\"data/\")"
   ]
  },
  {
   "cell_type": "code",
   "execution_count": 31,
   "metadata": {},
   "outputs": [
    {
     "data": {
      "text/plain": [
       "13"
      ]
     },
     "execution_count": 31,
     "metadata": {},
     "output_type": "execute_result"
    }
   ],
   "source": [
    "data=doc.load()\n",
    "len(data)"
   ]
  },
  {
   "cell_type": "code",
   "execution_count": 32,
   "metadata": {},
   "outputs": [
    {
     "data": {
      "text/plain": [
       "Document(page_content=\"Home remedies for 'Bronchitis in children': \\nMix 1 teaspoon oil of garlic (lasan) and 3 teaspoon honey and give a small amount three times a day to \\nthe child. \\n \\nHome remedies for 'Burns by hot water': \\nTake the thin buds of banana leaves. Bandage directly on affected areas. Tie the upper part for two days \\nand then lower parts for two more days. burns, scar. Boil 1 cup neem bark (neem ki khal) in 4 cups water. \\nRemove from fire and shake liquid. Apply the emerging froth on the affected area. Repeat several times \\nand for several days. \\n \\nHome remedies for 'Body Burns': \\nMash a ripe banana and apply on burns. Bandage with betel leaves (pan ka patta). If you have a minor \\nburn, immediately place an ice pack on the burnt area for 10 minutes. Combine 4 teaspoon each of lime \\njuice, coconut oil and rub until the betel leaves mixture turns white. Apply on affected parts. Apply curry \\nleaves (kari patta) as poultices over affected areas. Spread a thin layer of honey over the burn and cover \\nwith a dressing. Repeat this regularly every two or three hours till it heals. Burns by fire Immediately apply\\nglycerine on the burnt area. Burn a handful of mango leaves to ashes and apply this on the affected parts. \\n \\nHome remedies for 'Bruises': \\nSlice a raw onion & place over the bruise. Do not apply this to broken skin. \\n \\nHome remedies for 'Cataract At Early Stages': \\nMix 1 teaspoon rose water (gulab jal) with 1 teaspoon fresh lime juice. Add 10 drops of this to the eyes. \\n \\nHome remedies for 'Chest Congestion': \\nAdd to ½ litre of boiling water, 1 teaspoon carom seeds (ajwain) powder along with 1 teaspoon turmeric \\n(haldi) powder. Cool. Take 1 tablespoon of this mixture along with 1 teaspoon honey. \\n \\nHome remedies for 'Chickenpox In Early Stage': \\nInclude figs (anjeer) in your diet every day. Children irritability Rub a nutmeg (jaiphal) lightly against a \\nsmooth grinding stone in milk and feed children who cry out at night without any apparent reasons. \\n \\nHome remedies for 'Chills': \\nInstead of your regular hot tea or coffee, have a glass of hot water mixed with honey and lemon. Put a \\nteaspoon of honey, lemon juice and a little grated ginger in a glass and add hot water. Stir and drink. \\n \\nHome remedies for 'High Cholesterol': \\nFinely dice an onion and mix it with 1 cup buttermilk along with ¼ teaspoon black pepper (kali mirch) \\npowder and drink. Regularly intake garlic (lasan) cloves for a few days. Regularly intake coriander \\n(dhania) decoction made by boiling 2 teaspoon dry seed powder in 1 cup water. (Milk and sugar can be \\nadded to improve its taste. This could be a welcome substitute for tea or coffee.) \\n \\nHome remedies for 'Cough': \\nMix equal amounts of honey and ginger (adrak) juice. For better results warm the mixture a little & then \\nhave it. Have 1 teaspoon, 2-3-4 times a day. Three pepper corns (saboot kali mirch) sucked with a pinch \\nof black cumin (shah jeera) and a pinch of salt gives relief. Mix 1 teaspoon pepper powder with 4 \\nteaspoon gur (jaggery). Make small balls. Suck 3-4 balls/tablets during the day. Mix equal amounts of \\npepper powder and sugar candy (mishri) by weight. Mix enough pure ghee to form small balls. Suck one \\nball/tablet 3-4 times a day. Avoid - curd, bananas, ice, rice fried and cold foods. 1 teaspoon of basil (tulsi) \\nleaves juice 2-3 times a day for children. Tulsi leaves can be crushed to a paste and the paste squeezed \\nthrough a clean muslin cloth to get juice. Mix a pinch of turmeric (haldi) with warm 1 cup milk and have at \\nnight. \\n \\nHome remedies for 'Constipation In Adults': \\nA healthy stomach is a healthy body'. Many diseases have their roots in the digestive system. \", metadata={'source': 'data\\\\data.pdf', 'page': 4})"
      ]
     },
     "execution_count": 32,
     "metadata": {},
     "output_type": "execute_result"
    }
   ],
   "source": [
    "data[4]"
   ]
  },
  {
   "cell_type": "code",
   "execution_count": 33,
   "metadata": {},
   "outputs": [],
   "source": [
    "from langchain.text_splitter import RecursiveCharacterTextSplitter"
   ]
  },
  {
   "cell_type": "code",
   "execution_count": 34,
   "metadata": {},
   "outputs": [],
   "source": [
    "text_splitter = RecursiveCharacterTextSplitter(chunk_size=2000, chunk_overlap=500)"
   ]
  },
  {
   "cell_type": "code",
   "execution_count": 35,
   "metadata": {},
   "outputs": [],
   "source": [
    "data_chunks=text_splitter.split_documents(data)"
   ]
  },
  {
   "cell_type": "code",
   "execution_count": 36,
   "metadata": {},
   "outputs": [],
   "source": [
    "database_dir=\"Database\""
   ]
  },
  {
   "cell_type": "code",
   "execution_count": 37,
   "metadata": {},
   "outputs": [],
   "source": [
    "from langchain_community.vectorstores import Chroma"
   ]
  },
  {
   "cell_type": "code",
   "execution_count": 38,
   "metadata": {},
   "outputs": [],
   "source": [
    "vector_db=Chroma.from_documents(\n",
    "    documents=data_chunks,\n",
    "    embedding=embeddings,\n",
    "    persist_directory=database_dir\n",
    ")"
   ]
  },
  {
   "cell_type": "code",
   "execution_count": 39,
   "metadata": {},
   "outputs": [],
   "source": [
    "retriver=vector_db.as_retriever()"
   ]
  },
  {
   "cell_type": "code",
   "execution_count": 40,
   "metadata": {},
   "outputs": [
    {
     "name": "stdout",
     "output_type": "stream",
     "text": [
      "[Document(page_content=\"Home remedies for 'Cold/Cough': \\n20 ml decoction prepared from 5 gm coarse powder sugar and turmeric powder thrice a day. or use of \\ndhania powder as herbal tea every morning prevents cold, cough & problems related to digestion. \\n \\nHome remedies for 'Cold/Cough': \\n20 ml decoction prepared from 5 gm Dhania, 1 gm Methi seeds, little turmeric powder should be taken 2-3\\ntimes/day. Little elaichi powder with a tea spoon full of honey 3-4 times day. Even chewing elaichi (Not \\nmore than 3 per day) frequently is help full in dry as w ell as productive cough. \\n \\n \\nHome remedies for 'Cold/Cough': \\nWarm decoction of 2 gm jeera, 5 gm Dhania, 1 gm Haldi, 1 gm Methi powder and little pepper should be \\ntaken with honey/ sugar with lemon two to three times. Either decoction as mentioned above or chewing \\nfew grains frequently helps in dry as well as productive cough.\", metadata={'page': 0, 'source': 'data\\\\data.pdf'}), Document(page_content=\"Home remedies for 'Cold/Cough': \\n20 ml decoction prepared from 5 gm coarse powder sugar and turmeric powder thrice a day. or use of \\ndhania powder as herbal tea every morning prevents cold, cough & problems related to digestion. \\n \\nHome remedies for 'Cold/Cough': \\n20 ml decoction prepared from 5 gm Dhania, 1 gm Methi seeds, little turmeric powder should be taken 2-3\\ntimes/day. Little elaichi powder with a tea spoon full of honey 3-4 times day. Even chewing elaichi (Not \\nmore than 3 per day) frequently is help full in dry as w ell as productive cough. \\n \\n \\nHome remedies for 'Cold/Cough': \\nWarm decoction of 2 gm jeera, 5 gm Dhania, 1 gm Haldi, 1 gm Methi powder and little pepper should be \\ntaken with honey/ sugar with lemon two to three times. Either decoction as mentioned above or chewing \\nfew grains frequently helps in dry as well as productive cough.\", metadata={'page': 0, 'source': 'data\\\\data.pdf'}), Document(page_content=\"Home remedies for 'Cold/Cough': \\n20 ml decoction prepared from 5 gm coarse powder sugar and turmeric powder thrice a day. or use of \\ndhania powder as herbal tea every morning prevents cold, cough & problems related to digestion. \\n \\nHome remedies for 'Cold/Cough': \\n20 ml decoction prepared from 5 gm Dhania, 1 gm Methi seeds, little turmeric powder should be taken 2-3\\ntimes/day. Little elaichi powder with a tea spoon full of honey 3-4 times day. Even chewing elaichi (Not \\nmore than 3 per day) frequently is help full in dry as w ell as productive cough. \\n \\n \\nHome remedies for 'Cold/Cough': \\nWarm decoction of 2 gm jeera, 5 gm Dhania, 1 gm Haldi, 1 gm Methi powder and little pepper should be \\ntaken with honey/ sugar with lemon two to three times. Either decoction as mentioned above or chewing \\nfew grains frequently helps in dry as well as productive cough.\", metadata={'page': 0, 'source': 'data\\\\data.pdf'}), Document(page_content='throat is also present, add a few small pieces of dry ginger (adrak) to the boiling water. Six pepper corns \\n(saboot kali mirch) finely ground and mixed with a glass of warm water, sweetened with 5-6 batasha (a \\nvariation of sugar candy) can be taken for a few nights. In the case of the acute cold in the head, boil 1 \\ntablespoon full pepper powder in a cup of milk along with a pinch of turmeric (haldi) and have once daily \\nfor at least 3 days. cold with phlegm (balgam) and slight cough. Take 8-10 tulsi leaves and wash well. To \\n1 cup of water, add these tulsi leaves, 1-2 cloves of garlic (lasan), ½\" piece ginger, crushed and 4-5 \\npeppercorns (saboot kali mirch). Boil the water and keep simmering on fire till the quantity is reduced to ¼\\ncup. Cool. Strain. Add 1 teaspoon honey. Drink this every morning. \\n \\nHome remedies for \\'Muscular Cramps\\': \\nApply clove oil (laung ka tel) on the affected parts. \\n \\nHome remedies for \\'Deafness\\': \\nUse raw onion juice as ear drops. Put two drops of lukewarm neem oil inside the ear. \\n \\nHome remedies for \\'Dandruff\\': \\nSoak 2 tablespoon fenugreek seeds (methi dana) in water overnight. In the morning grind into a fine \\npaste. Apply all over scalp and leave for ½ an hour. Wash with Shikakai or mild shampoo. Boil a handful \\nof neem leaves in 4 teacups of water. After cooling and filtering use for rinsing hair Dehydration due to \\ndiarrhoea Soak half a nutmeg (jaiphal) in 2 cups water for over 2-3 hours. Take 1 teaspoon of this infusion', metadata={'page': 5, 'source': 'data\\\\data.pdf'})]\n"
     ]
    }
   ],
   "source": [
    "out=retriver.get_relevant_documents(\"home remedies for cough and cold\")\n",
    "print(out)"
   ]
  },
  {
   "cell_type": "code",
   "execution_count": 41,
   "metadata": {},
   "outputs": [],
   "source": [
    "from langchain.agents import Tool\n",
    "\n",
    "rag_tool=Tool(\n",
    "    name=\"Rag_tool\",\n",
    "    func=retriver.get_relevant_documents,\n",
    "    description=\"this tool is recommended for getting home remedies for acute health problems\"\n",
    ")"
   ]
  },
  {
   "cell_type": "code",
   "execution_count": 42,
   "metadata": {},
   "outputs": [],
   "source": [
    "search=DuckDuckGoSearchRun()"
   ]
  },
  {
   "cell_type": "code",
   "execution_count": 43,
   "metadata": {},
   "outputs": [],
   "source": [
    "model = ChatGoogleGenerativeAI(model=\"gemini-pro\")"
   ]
  },
  {
   "cell_type": "code",
   "execution_count": 44,
   "metadata": {},
   "outputs": [
    {
     "name": "stderr",
     "output_type": "stream",
     "text": [
      "d:\\DA\\hack4bengal\\MediConnect\\env\\Lib\\site-packages\\langchain_core\\_api\\deprecation.py:139: LangChainDeprecationWarning: The function `initialize_agent` was deprecated in LangChain 0.1.0 and will be removed in 0.3.0. Use Use new agent constructor methods like create_react_agent, create_json_agent, create_structured_chat_agent, etc. instead.\n",
      "  warn_deprecated(\n"
     ]
    }
   ],
   "source": [
    "agent=initialize_agent(\n",
    "    llm=model,\n",
    "    tools=[search,rag_tool],\n",
    "    verbose=True,\n",
    "    handle_parsing_errors=True\n",
    ")"
   ]
  },
  {
   "cell_type": "code",
   "execution_count": 45,
   "metadata": {},
   "outputs": [
    {
     "name": "stdout",
     "output_type": "stream",
     "text": [
      "\n",
      "\n",
      "\u001b[1m> Entering new AgentExecutor chain...\u001b[0m\n",
      "\u001b[32;1m\u001b[1;3mAction: Rag_tool\n",
      "Action Input: query: 'home remedies for headache'\u001b[0m\n",
      "Observation: \u001b[33;1m\u001b[1;3m[Document(page_content=\"Home remedies for 'Headache': \\nRoast some ajwain dry on a tawa. Tie it in a muslin bag and sniff frequently. Make a paste of 2-3 \\npowdered cloves (laung) and salt. Apply this paste on the forehead. A paste made of dry ginger (sonth) \\nwith a little water or milk when applied to the forehead also gives relief. A ripe apple, after removing the \\nupper rind and the inner hard portion should be taken with a little salt every morning on an empty \\nstomach. Continue for a week. This yields good results even in case of chronic headaches. Mix 1 \\nteaspoon finely ground cinnamon (dalchini) in 1 teaspoon water and apply on the forehead. It is very \\neffective in headache due to exposure to cold air. Crush an onion and apply the paste on the head. Grind \\n10-15 tulsi leaves with 4 cloves (laung) and 1 teaspoon dried ginger (sonth) into a paste and apply. \\n \\nHome remedies for 'Headache due to exposure to cold air': \\nMix 1 teaspoon finely ground cinnamon (dalchini) in 1 teaspoon water and apply on the affected parts. \\nHeadache on one side w Powder equal quantities of liquorice (mulathi) and cumin (jeera). Take ¼ \\nteaspoon every day along with 1 teaspoon honey for a month. Mix 1 teaspoon each of the following \\npowders and store: camphor (kapoor), nutmeg (jaiphal), cardamom (chhoti illaichi) and cloves (laung). \\nTake 2 pinches with warm water. Heart attack w Take ½ teaspoon garlic (lasan) powder every day. \\n \\nHome remedies for 'Heart burn': \\nAdd 1 tablespoon mint (pudina) leaves to 1 cup water. Take twice or thrice a day. \\n \\nHome remedies for 'Heart pain': \\nBoil ½ teaspoon sandalwood powder in 1 cup water. Drink thrice daily. \\n \\nHome remedies for 'Heart palpitation': \\nBoil ¼ teaspoon powdered cardamom (chhoti illaichi) seeds in thin tea water and drink. \\n \\nHome remedies for 'Heart problem': \\nEat ¼ teaspoon asafetida (hing) along with one large raisin (kishmish) every day. Heart weakness w \\nRegular intake of ripe bananas strengthens the heart. \\n \\nHome remedies for 'Heat exhaustion':\", metadata={'page': 10, 'source': 'data\\\\data.pdf'}), Document(page_content=\"Home remedies for 'Headache': \\nRoast some ajwain dry on a tawa. Tie it in a muslin bag and sniff frequently. Make a paste of 2-3 \\npowdered cloves (laung) and salt. Apply this paste on the forehead. A paste made of dry ginger (sonth) \\nwith a little water or milk when applied to the forehead also gives relief. A ripe apple, after removing the \\nupper rind and the inner hard portion should be taken with a little salt every morning on an empty \\nstomach. Continue for a week. This yields good results even in case of chronic headaches. Mix 1 \\nteaspoon finely ground cinnamon (dalchini) in 1 teaspoon water and apply on the forehead. It is very \\neffective in headache due to exposure to cold air. Crush an onion and apply the paste on the head. Grind \\n10-15 tulsi leaves with 4 cloves (laung) and 1 teaspoon dried ginger (sonth) into a paste and apply. \\n \\nHome remedies for 'Headache due to exposure to cold air': \\nMix 1 teaspoon finely ground cinnamon (dalchini) in 1 teaspoon water and apply on the affected parts. \\nHeadache on one side w Powder equal quantities of liquorice (mulathi) and cumin (jeera). Take ¼ \\nteaspoon every day along with 1 teaspoon honey for a month. Mix 1 teaspoon each of the following \\npowders and store: camphor (kapoor), nutmeg (jaiphal), cardamom (chhoti illaichi) and cloves (laung). \\nTake 2 pinches with warm water. Heart attack w Take ½ teaspoon garlic (lasan) powder every day. \\n \\nHome remedies for 'Heart burn': \\nAdd 1 tablespoon mint (pudina) leaves to 1 cup water. Take twice or thrice a day. \\n \\nHome remedies for 'Heart pain': \\nBoil ½ teaspoon sandalwood powder in 1 cup water. Drink thrice daily. \\n \\nHome remedies for 'Heart palpitation': \\nBoil ¼ teaspoon powdered cardamom (chhoti illaichi) seeds in thin tea water and drink. \\n \\nHome remedies for 'Heart problem': \\nEat ¼ teaspoon asafetida (hing) along with one large raisin (kishmish) every day. Heart weakness w \\nRegular intake of ripe bananas strengthens the heart. \\n \\nHome remedies for 'Heat exhaustion':\", metadata={'page': 10, 'source': 'data\\\\data.pdf'}), Document(page_content=\"Home remedies for 'Headache': \\nRoast some ajwain dry on a tawa. Tie it in a muslin bag and sniff frequently. Make a paste of 2-3 \\npowdered cloves (laung) and salt. Apply this paste on the forehead. A paste made of dry ginger (sonth) \\nwith a little water or milk when applied to the forehead also gives relief. A ripe apple, after removing the \\nupper rind and the inner hard portion should be taken with a little salt every morning on an empty \\nstomach. Continue for a week. This yields good results even in case of chronic headaches. Mix 1 \\nteaspoon finely ground cinnamon (dalchini) in 1 teaspoon water and apply on the forehead. It is very \\neffective in headache due to exposure to cold air. Crush an onion and apply the paste on the head. Grind \\n10-15 tulsi leaves with 4 cloves (laung) and 1 teaspoon dried ginger (sonth) into a paste and apply. \\n \\nHome remedies for 'Headache due to exposure to cold air': \\nMix 1 teaspoon finely ground cinnamon (dalchini) in 1 teaspoon water and apply on the affected parts. \\nHeadache on one side w Powder equal quantities of liquorice (mulathi) and cumin (jeera). Take ¼ \\nteaspoon every day along with 1 teaspoon honey for a month. Mix 1 teaspoon each of the following \\npowders and store: camphor (kapoor), nutmeg (jaiphal), cardamom (chhoti illaichi) and cloves (laung). \\nTake 2 pinches with warm water. Heart attack w Take ½ teaspoon garlic (lasan) powder every day. \\n \\nHome remedies for 'Heart burn': \\nAdd 1 tablespoon mint (pudina) leaves to 1 cup water. Take twice or thrice a day. \\n \\nHome remedies for 'Heart pain': \\nBoil ½ teaspoon sandalwood powder in 1 cup water. Drink thrice daily. \\n \\nHome remedies for 'Heart palpitation': \\nBoil ¼ teaspoon powdered cardamom (chhoti illaichi) seeds in thin tea water and drink. \\n \\nHome remedies for 'Heart problem': \\nEat ¼ teaspoon asafetida (hing) along with one large raisin (kishmish) every day. Heart weakness w \\nRegular intake of ripe bananas strengthens the heart. \\n \\nHome remedies for 'Heat exhaustion':\", metadata={'page': 10, 'source': 'data\\\\data.pdf'}), Document(page_content=\"Home remedies for 'Diarrhea due to indigestion of food': \\nInsert ¼ teaspoon nutmeg (jaiphal) powder inside a ripe banana and eat. Dog-bite Take ½ teaspoon \\npowder of black cumin seeds (shah jeera) twice daily. \\n \\nHome remedies for 'Ear Infection': \\nExtract 1 teaspoon juice from mango leaves. Slightly warm and use as ear drops when bearably hot. \\n \\nHome remedies for 'Boils inside Ear': \\nHeat 2 teaspoon mustard oil. Add ½ teaspoon carom (ajwain) seeds and one or two flakes of crushed \\ngarlic (lasan). Boil till they turn red. Filter. Use as ear drops. \\n \\nHome remedies for 'For Ear pain due to boils use the folowing :': \\nHeat 1 teaspoon each of garlic (lasan) and carom seeds (ajwain) in 2 tablespoon gingelly oil (til ka tel) till \\nthey turn red in colour. Strain and cool. When cooled to body temperature, put some drops into the ears. \\n \\nHome remedies for 'Eye Aching': \\nPowder equal quantities of liquorice (mulathi) and cumin (jeera). Take ¼ teaspoon every day along with 1 \\nteaspoon honey for a month. Eyes burning w Mash 1 ripe banana along with a little curd and water; take \\ntwice a day. Mix equal quantities of fenugreek seed (methi daana) powder along with Shikakai powder for \\nwashing hair. Wash frequently. Grind an onion with 1 teaspoon each black pepper and poppy seeds \\n(khuskhus) soaked in ½ cup milk. Apply this paste on the head. Allow it to dry for 15-20 minutes. Wash in \\nwarm water. Mix the juice of bottle gourd (karela) and sesame oil (til ka tel) in the ratio of 4:1, and heat till \\nthe moisture is evaporated completely. Once cool, use it for massaging the head. \\n \\nHome remedies for 'Exhaustion due to overwork': \\nBoil ¼ teaspoon powdered cardamom (chhoti illaichi) seeds in thin tea water and drink. \\n \\nHome remedies for 'Epilepsy': \\nApply fresh lime juice on the head. Massage well before showering off. \\n \\nHome remedies for 'Eczema': \\nRub a nutmeg (jaiphal) against a smooth stone slab with a little water and make a paste. Apply on\", metadata={'page': 7, 'source': 'data\\\\data.pdf'})]\u001b[0m\n",
      "Thought:\u001b[32;1m\u001b[1;3mThe top result suggests roasting some ajwain dry on a tawa and tying it in a muslin bag to sniff frequently.\n",
      "Final Answer: Roast some ajwain dry on a tawa and tie it in a muslin bag to sniff frequently.\u001b[0m\n",
      "\n",
      "\u001b[1m> Finished chain.\u001b[0m\n"
     ]
    }
   ],
   "source": [
    "out=agent.invoke(\"hello, suggest me some home remedie for headache\")"
   ]
  },
  {
   "cell_type": "code",
   "execution_count": 46,
   "metadata": {},
   "outputs": [
    {
     "data": {
      "text/plain": [
       "'Roast some ajwain dry on a tawa and tie it in a muslin bag to sniff frequently.'"
      ]
     },
     "execution_count": 46,
     "metadata": {},
     "output_type": "execute_result"
    }
   ],
   "source": [
    "out[\"output\"]"
   ]
  },
  {
   "cell_type": "code",
   "execution_count": 47,
   "metadata": {},
   "outputs": [
    {
     "name": "stdout",
     "output_type": "stream",
     "text": [
      "\n",
      "\n",
      "\u001b[1m> Entering new AgentExecutor chain...\u001b[0m\n",
      "\u001b[32;1m\u001b[1;3mI should search duckduckgo for the answer\n",
      "Action: duckduckgo_search\n",
      "Action Input: is it ok to eat papaya during pregnancy\u001b[0m\n",
      "Observation: \u001b[36;1m\u001b[1;3mPapaya is generally safe to eat during pregnancy but only when it is fully ripe. Semi-ripe or green papaya should be avoided. It's important to know which fruits and vegetables are safe to eat ... Unripe papaya can raise vascular pressure and even lead to internal haemorrhage or bleeding in the placenta. Placental bleeding or haemorrhage can cause pregnancy and delivery-related complications. Papaya can affect the development and function of the placenta. 5. Increases Bowel Movement. Experts Weigh In. Pregnancy > Lifestyle. Is Papaya Safe During Pregnancy? Yes, If You Follow a Few Guidelines. Food & Nutrition. A couple of years after having my first baby, a fellow journalist reached out about a story she was working on, asking for some thoughts on what I would have told myself, advice-wise, about being pregnant. My answer ... Learn about the potential risks and safety guidelines for consuming papaya during pregnancy, and find out the recommendations and precautions to consider in this informative article. ... A herb or substance that stimulates menstrual flow. , which leads to miscarriage. The fiber content in papaya might exert pressure on intestines and stomach (11). Produces estrogen: An imbalance of hormones is common during pregnancy. The papain helps in regularizing the menstrual cycle.\u001b[0m\n",
      "Thought:\u001b[32;1m\u001b[1;3m\u001b[0m\n",
      "Observation: Invalid Format: Missing 'Action:' after 'Thought:\n",
      "Thought:\u001b[32;1m\u001b[1;3mI now know the final answer\n",
      "Final Answer: Papaya is generally safe to eat during pregnancy but only when it is fully ripe. Semi-ripe or green papaya should be avoided.\u001b[0m\n",
      "\n",
      "\u001b[1m> Finished chain.\u001b[0m\n"
     ]
    },
    {
     "data": {
      "text/plain": [
       "'Papaya is generally safe to eat during pregnancy but only when it is fully ripe. Semi-ripe or green papaya should be avoided.'"
      ]
     },
     "execution_count": 47,
     "metadata": {},
     "output_type": "execute_result"
    }
   ],
   "source": [
    "out=agent.invoke(\"hello, is it ok to eat papaya during pregnancy\")\n",
    "out[\"output\"]"
   ]
  }
 ],
 "metadata": {
  "kernelspec": {
   "display_name": "env",
   "language": "python",
   "name": "python3"
  },
  "language_info": {
   "codemirror_mode": {
    "name": "ipython",
    "version": 3
   },
   "file_extension": ".py",
   "mimetype": "text/x-python",
   "name": "python",
   "nbconvert_exporter": "python",
   "pygments_lexer": "ipython3",
   "version": "3.12.4"
  }
 },
 "nbformat": 4,
 "nbformat_minor": 2
}
