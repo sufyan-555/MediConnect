{
 "cells": [
  {
   "cell_type": "code",
   "execution_count": 6,
   "metadata": {},
   "outputs": [
    {
     "data": {
      "text/plain": [
       "True"
      ]
     },
     "execution_count": 6,
     "metadata": {},
     "output_type": "execute_result"
    }
   ],
   "source": [
    "from langchain_google_genai import GoogleGenerativeAIEmbeddings\n",
    "import os\n",
    "from dotenv import load_dotenv\n",
    "load_dotenv()"
   ]
  },
  {
   "cell_type": "code",
   "execution_count": 7,
   "metadata": {},
   "outputs": [],
   "source": [
    "GOOGLE_API_KEY=os.getenv('GOOGLE_API_KEY')"
   ]
  },
  {
   "cell_type": "code",
   "execution_count": 8,
   "metadata": {},
   "outputs": [],
   "source": [
    "embeddings = GoogleGenerativeAIEmbeddings(model=\"models/embedding-001\",google_api_key=GOOGLE_API_KEY)"
   ]
  },
  {
   "cell_type": "code",
   "execution_count": 11,
   "metadata": {},
   "outputs": [],
   "source": [
    "from langchain_community.document_loaders import PyPDFDirectoryLoader\n",
    "import pypdf"
   ]
  },
  {
   "cell_type": "code",
   "execution_count": 18,
   "metadata": {},
   "outputs": [],
   "source": [
    "doc=PyPDFDirectoryLoader(path=\"data/\")"
   ]
  },
  {
   "cell_type": "code",
   "execution_count": 19,
   "metadata": {},
   "outputs": [
    {
     "data": {
      "text/plain": [
       "13"
      ]
     },
     "execution_count": 19,
     "metadata": {},
     "output_type": "execute_result"
    }
   ],
   "source": [
    "data=doc.load()\n",
    "len(data)"
   ]
  },
  {
   "cell_type": "code",
   "execution_count": 20,
   "metadata": {},
   "outputs": [
    {
     "data": {
      "text/plain": [
       "Document(page_content=\"Home remedies for 'Bronchitis in children': \\nMix 1 teaspoon oil of garlic (lasan) and 3 teaspoon honey and give a small amount three times a day to \\nthe child. \\n \\nHome remedies for 'Burns by hot water': \\nTake the thin buds of banana leaves. Bandage directly on affected areas. Tie the upper part for two days \\nand then lower parts for two more days. burns, scar. Boil 1 cup neem bark (neem ki khal) in 4 cups water. \\nRemove from fire and shake liquid. Apply the emerging froth on the affected area. Repeat several times \\nand for several days. \\n \\nHome remedies for 'Body Burns': \\nMash a ripe banana and apply on burns. Bandage with betel leaves (pan ka patta). If you have a minor \\nburn, immediately place an ice pack on the burnt area for 10 minutes. Combine 4 teaspoon each of lime \\njuice, coconut oil and rub until the betel leaves mixture turns white. Apply on affected parts. Apply curry \\nleaves (kari patta) as poultices over affected areas. Spread a thin layer of honey over the burn and cover \\nwith a dressing. Repeat this regularly every two or three hours till it heals. Burns by fire Immediately apply\\nglycerine on the burnt area. Burn a handful of mango leaves to ashes and apply this on the affected parts. \\n \\nHome remedies for 'Bruises': \\nSlice a raw onion & place over the bruise. Do not apply this to broken skin. \\n \\nHome remedies for 'Cataract At Early Stages': \\nMix 1 teaspoon rose water (gulab jal) with 1 teaspoon fresh lime juice. Add 10 drops of this to the eyes. \\n \\nHome remedies for 'Chest Congestion': \\nAdd to ½ litre of boiling water, 1 teaspoon carom seeds (ajwain) powder along with 1 teaspoon turmeric \\n(haldi) powder. Cool. Take 1 tablespoon of this mixture along with 1 teaspoon honey. \\n \\nHome remedies for 'Chickenpox In Early Stage': \\nInclude figs (anjeer) in your diet every day. Children irritability Rub a nutmeg (jaiphal) lightly against a \\nsmooth grinding stone in milk and feed children who cry out at night without any apparent reasons. \\n \\nHome remedies for 'Chills': \\nInstead of your regular hot tea or coffee, have a glass of hot water mixed with honey and lemon. Put a \\nteaspoon of honey, lemon juice and a little grated ginger in a glass and add hot water. Stir and drink. \\n \\nHome remedies for 'High Cholesterol': \\nFinely dice an onion and mix it with 1 cup buttermilk along with ¼ teaspoon black pepper (kali mirch) \\npowder and drink. Regularly intake garlic (lasan) cloves for a few days. Regularly intake coriander \\n(dhania) decoction made by boiling 2 teaspoon dry seed powder in 1 cup water. (Milk and sugar can be \\nadded to improve its taste. This could be a welcome substitute for tea or coffee.) \\n \\nHome remedies for 'Cough': \\nMix equal amounts of honey and ginger (adrak) juice. For better results warm the mixture a little & then \\nhave it. Have 1 teaspoon, 2-3-4 times a day. Three pepper corns (saboot kali mirch) sucked with a pinch \\nof black cumin (shah jeera) and a pinch of salt gives relief. Mix 1 teaspoon pepper powder with 4 \\nteaspoon gur (jaggery). Make small balls. Suck 3-4 balls/tablets during the day. Mix equal amounts of \\npepper powder and sugar candy (mishri) by weight. Mix enough pure ghee to form small balls. Suck one \\nball/tablet 3-4 times a day. Avoid - curd, bananas, ice, rice fried and cold foods. 1 teaspoon of basil (tulsi) \\nleaves juice 2-3 times a day for children. Tulsi leaves can be crushed to a paste and the paste squeezed \\nthrough a clean muslin cloth to get juice. Mix a pinch of turmeric (haldi) with warm 1 cup milk and have at \\nnight. \\n \\nHome remedies for 'Constipation In Adults': \\nA healthy stomach is a healthy body'. Many diseases have their roots in the digestive system. \", metadata={'source': 'data\\\\data.pdf', 'page': 4})"
      ]
     },
     "execution_count": 20,
     "metadata": {},
     "output_type": "execute_result"
    }
   ],
   "source": [
    "data[4]"
   ]
  },
  {
   "cell_type": "code",
   "execution_count": 21,
   "metadata": {},
   "outputs": [],
   "source": [
    "from langchain.text_splitter import RecursiveCharacterTextSplitter"
   ]
  },
  {
   "cell_type": "code",
   "execution_count": 22,
   "metadata": {},
   "outputs": [],
   "source": [
    "text_splitter = RecursiveCharacterTextSplitter(chunk_size=2000, chunk_overlap=500)"
   ]
  },
  {
   "cell_type": "code",
   "execution_count": 23,
   "metadata": {},
   "outputs": [],
   "source": [
    "data_chunks=text_splitter.split_documents(data)"
   ]
  },
  {
   "cell_type": "code",
   "execution_count": 30,
   "metadata": {},
   "outputs": [],
   "source": [
    "database_dir=\"Database\""
   ]
  },
  {
   "cell_type": "code",
   "execution_count": 27,
   "metadata": {},
   "outputs": [],
   "source": [
    "from langchain_community.vectorstores import Chroma"
   ]
  },
  {
   "cell_type": "code",
   "execution_count": 32,
   "metadata": {},
   "outputs": [],
   "source": [
    "vector_db=Chroma.from_documents(\n",
    "    documents=data_chunks,\n",
    "    embedding=embeddings,\n",
    "    persist_directory=database_dir\n",
    ")"
   ]
  }
 ],
 "metadata": {
  "kernelspec": {
   "display_name": "env",
   "language": "python",
   "name": "python3"
  },
  "language_info": {
   "codemirror_mode": {
    "name": "ipython",
    "version": 3
   },
   "file_extension": ".py",
   "mimetype": "text/x-python",
   "name": "python",
   "nbconvert_exporter": "python",
   "pygments_lexer": "ipython3",
   "version": "3.12.4"
  }
 },
 "nbformat": 4,
 "nbformat_minor": 2
}
